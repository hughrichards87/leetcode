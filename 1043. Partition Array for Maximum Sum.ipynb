{
 "cells": [
  {
   "cell_type": "markdown",
   "metadata": {},
   "source": [
    "1043. Partition Array for Maximum Sum"
   ]
  },
  {
   "cell_type": "markdown",
   "metadata": {},
   "source": [
    "Given an integer array `arr`, partition the array into (contiguous) subarrays of length at most `k`. After partitioning, each subarray has their values changed to become the maximum value of that subarray.\n",
    "\n",
    "*Return the largest sum of the given array after partitioning. Test cases are generated so that the answer fits in a **32-bit** integer.*"
   ]
  },
  {
   "cell_type": "markdown",
   "metadata": {},
   "source": [
    "Constraints:\n",
    "\n",
    "- `1 <= arr.length <= 500`\n",
    "- `0 <= arr[i] <= 109`\n",
    "- `1 <= k <= arr.length`"
   ]
  },
  {
   "cell_type": "code",
   "execution_count": 2,
   "metadata": {},
   "outputs": [],
   "source": [
    "from typing import *"
   ]
  },
  {
   "cell_type": "code",
   "execution_count": 3,
   "metadata": {},
   "outputs": [],
   "source": [
    "class Solution:\n",
    "    def maxSumAfterPartitioning(self, arr: List[int], k: int) -> int:\n",
    "        n = len(arr)\n",
    "        dp = [0] * (n+1)\n",
    "        for i in range(1, n+1):\n",
    "            max_val = 0\n",
    "            for j in range(1, min(i, k)+1):\n",
    "                max_val = max(max_val, arr[i-j])\n",
    "                dp[i] = max(dp[i], dp[i-j] + max_val * j)\n",
    "                \n",
    "        return dp[n]"
   ]
  },
  {
   "cell_type": "markdown",
   "metadata": {},
   "source": [
    "# Tests"
   ]
  },
  {
   "cell_type": "code",
   "execution_count": 4,
   "metadata": {},
   "outputs": [
    {
     "name": "stdout",
     "output_type": "stream",
     "text": [
      "84\n"
     ]
    }
   ],
   "source": [
    "arr = [1,15,7,9,2,5,10]\n",
    "k = 3\n",
    "output = 84\n",
    "\n",
    "result = Solution().maxSumAfterPartitioning(arr, k)\n",
    "print(result)"
   ]
  },
  {
   "cell_type": "code",
   "execution_count": 5,
   "metadata": {},
   "outputs": [
    {
     "name": "stdout",
     "output_type": "stream",
     "text": [
      "83\n"
     ]
    }
   ],
   "source": [
    "arr = [1,4,1,5,7,3,6,1,9,9,3]\n",
    "k = 4\n",
    "output = 83\n",
    "\n",
    "output = Solution().maxSumAfterPartitioning(arr, k)\n",
    "print(output)"
   ]
  },
  {
   "cell_type": "code",
   "execution_count": 6,
   "metadata": {},
   "outputs": [
    {
     "name": "stdout",
     "output_type": "stream",
     "text": [
      "1\n"
     ]
    }
   ],
   "source": [
    "arr = [1]\n",
    "k = 1\n",
    "output = 1\n",
    "\n",
    "output = Solution().maxSumAfterPartitioning(arr, k)\n",
    "print(output)"
   ]
  }
 ],
 "metadata": {
  "kernelspec": {
   "display_name": "Python 3",
   "language": "python",
   "name": "python3"
  },
  "language_info": {
   "codemirror_mode": {
    "name": "ipython",
    "version": 3
   },
   "file_extension": ".py",
   "mimetype": "text/x-python",
   "name": "python",
   "nbconvert_exporter": "python",
   "pygments_lexer": "ipython3",
   "version": "3.11.7"
  }
 },
 "nbformat": 4,
 "nbformat_minor": 2
}
