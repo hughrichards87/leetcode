{
 "cells": [
  {
   "cell_type": "markdown",
   "metadata": {},
   "source": [
    "# 2966. Divide Array Into Arrays With Max Difference\n"
   ]
  },
  {
   "cell_type": "markdown",
   "metadata": {},
   "source": [
    "You are given an integer array `nums` of size `n` and a positive integer `k`.\n",
    "\n",
    "Divide the array into one or more arrays of size `3` satisfying the following conditions:\n",
    "\n",
    "- **Each** element of `nums` should be in exactly one array.\n",
    "- The difference between any two elements in one array is less than or equal to `k`.\n",
    "\n",
    "Return a **2D** *array containing all the arrays. If it is impossible to satisfy the conditions, return an empty array. And if there are multiple answers, return **any** of them.*"
   ]
  },
  {
   "cell_type": "markdown",
   "metadata": {},
   "source": [
    "Constraints:\n",
    "\n",
    "- `n == nums.length`\n",
    "- `1 <= n <= 105`\n",
    "- `n` is a multiple of `3`.\n",
    "- `1 <= nums[i] <= 105`\n",
    "- `1 <= k <= 105`"
   ]
  },
  {
   "cell_type": "code",
   "execution_count": null,
   "metadata": {},
   "outputs": [],
   "source": [
    "from typing import *"
   ]
  },
  {
   "cell_type": "code",
   "execution_count": null,
   "metadata": {},
   "outputs": [],
   "source": [
    "class Solution:\n",
    "    def divideArray(self, nums: List[int], k: int) -> List[List[int]]:\n",
    "        size = len(nums)\n",
    "        nums.sort()\n",
    "        result = []\n",
    "        for i in range(0, size, 3):\n",
    "            if nums[i + 2] - nums[i] <= k:\n",
    "                result.append([nums[i], nums[i + 1], nums[i + 2]])\n",
    "            else:\n",
    "                return []\n",
    "        return result"
   ]
  },
  {
   "cell_type": "markdown",
   "metadata": {},
   "source": [
    "# Tests"
   ]
  },
  {
   "cell_type": "code",
   "execution_count": null,
   "metadata": {},
   "outputs": [],
   "source": [
    "nums = [1,3,4,8,7,9,3,5,1]\n",
    "k  = 2\n",
    "expected = [[1,1,3],[3,4,5],[7,8,9]]\n",
    "\n",
    "output = Solution().divideArray(nums, k)\n",
    "print(output)\n",
    "print(output == expected)"
   ]
  },
  {
   "cell_type": "code",
   "execution_count": null,
   "metadata": {},
   "outputs": [],
   "source": [
    "nums = [1,3,3,2,7,3]\n",
    "k  = 3\n",
    "expected = []\n",
    "\n",
    "output = Solution().divideArray(nums, k)\n",
    "print(output)\n",
    "print(output == expected)"
   ]
  },
  {
   "cell_type": "code",
   "execution_count": null,
   "metadata": {},
   "outputs": [],
   "source": [
    "nums = [4,2,9,8,2,12,7,12,10,5,8,5,5,7,9,2,5,11]\n",
    "k  = 14\n",
    "expected = [[2,2,2],[4,5,5],[5,5,7],[7,8,8],[9,9,10],[11,12,12]]\n",
    "\n",
    "output = Solution().divideArray(nums, k)\n",
    "print(output)\n",
    "print(output == expected)"
   ]
  }
 ],
 "metadata": {
  "kernelspec": {
   "display_name": "Python 3",
   "language": "python",
   "name": "python3"
  },
  "language_info": {
   "codemirror_mode": {
    "name": "ipython",
    "version": 3
   },
   "file_extension": ".py",
   "mimetype": "text/x-python",
   "name": "python",
   "nbconvert_exporter": "python",
   "pygments_lexer": "ipython3",
   "version": "3.11.7"
  }
 },
 "nbformat": 4,
 "nbformat_minor": 2
}
