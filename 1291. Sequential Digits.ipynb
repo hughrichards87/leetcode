{
 "cells": [
  {
   "cell_type": "markdown",
   "metadata": {},
   "source": [
    "# 1291. Sequential Digits"
   ]
  },
  {
   "cell_type": "code",
   "execution_count": 15,
   "metadata": {},
   "outputs": [],
   "source": [
    "from typing import *\n",
    "\n",
    "class Solution:\n",
    "    def __createSequentialDigits(self):\n",
    "        ten = 10\n",
    "        one = 1\n",
    "        sequential_digits = []\n",
    "\n",
    "        for number in range(one, ten - one):\n",
    "            for digit in range(number + one, ten):\n",
    "                number = (number * ten) + digit\n",
    "                sequential_digits.append(number)\n",
    "                    \n",
    "        return sequential_digits\n",
    "        \n",
    "    def sequentialDigits(self, low: int, high: int) -> List[int]:\n",
    "        sequential_digits = self.__createSequentialDigits()\n",
    "        return sorted([digit for digit in sequential_digits if low <= digit <= high])\n"
   ]
  },
  {
   "cell_type": "markdown",
   "metadata": {},
   "source": [
    "# Tests"
   ]
  },
  {
   "cell_type": "code",
   "execution_count": 16,
   "metadata": {},
   "outputs": [
    {
     "name": "stdout",
     "output_type": "stream",
     "text": [
      "[123, 234]\n"
     ]
    }
   ],
   "source": [
    "low = 100\n",
    "high = 300\n",
    "\n",
    "outputs = Solution().sequentialDigits(low, high)\n",
    "print(outputs)"
   ]
  },
  {
   "cell_type": "code",
   "execution_count": 17,
   "metadata": {},
   "outputs": [
    {
     "name": "stdout",
     "output_type": "stream",
     "text": [
      "[12, 23, 34, 45, 56, 67, 78, 89, 123, 234, 345, 456, 567, 678, 789, 1234, 2345, 3456, 4567, 5678, 6789, 12345, 23456, 34567, 45678, 56789, 123456, 234567, 345678, 456789, 1234567, 2345678, 3456789, 12345678, 23456789, 123456789]\n"
     ]
    }
   ],
   "source": [
    "low = 1\n",
    "high = 999999999999999999\n",
    "\n",
    "outputs = Solution().sequentialDigits(low, high)\n",
    "print(outputs)"
   ]
  }
 ],
 "metadata": {
  "kernelspec": {
   "display_name": "Python 3",
   "language": "python",
   "name": "python3"
  },
  "language_info": {
   "codemirror_mode": {
    "name": "ipython",
    "version": 3
   },
   "file_extension": ".py",
   "mimetype": "text/x-python",
   "name": "python",
   "nbconvert_exporter": "python",
   "pygments_lexer": "ipython3",
   "version": "3.11.7"
  }
 },
 "nbformat": 4,
 "nbformat_minor": 2
}
